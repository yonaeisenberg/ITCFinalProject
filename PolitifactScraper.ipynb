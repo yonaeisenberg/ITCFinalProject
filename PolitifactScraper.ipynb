{
 "cells": [
  {
   "cell_type": "code",
   "execution_count": 47,
   "metadata": {},
   "outputs": [],
   "source": [
    "import requests\n",
    "from bs4 import BeautifulSoup\n",
    "import pandas as pd\n",
    "from tqdm import tqdm_notebook as tqdm"
   ]
  },
  {
   "cell_type": "code",
   "execution_count": 48,
   "metadata": {},
   "outputs": [],
   "source": [
    "response = requests.get('https://www.politifact.com/truth-o-meter/statements/')\n",
    "soup = BeautifulSoup(response.text,'html.parser')"
   ]
  },
  {
   "cell_type": "code",
   "execution_count": 49,
   "metadata": {},
   "outputs": [],
   "source": [
    "num_of_pages = int(soup.find(class_='step-links__current').get_text().split()[-1])"
   ]
  },
  {
   "cell_type": "code",
   "execution_count": 50,
   "metadata": {},
   "outputs": [
    {
     "data": {
      "application/vnd.jupyter.widget-view+json": {
       "model_id": "adedb271647f4f85a273cb8706a566d9",
       "version_major": 2,
       "version_minor": 0
      },
      "text/plain": [
       "HBox(children=(IntProgress(value=0, max=846), HTML(value='')))"
      ]
     },
     "metadata": {},
     "output_type": "display_data"
    },
    {
     "name": "stdout",
     "output_type": "stream",
     "text": [
      "\n"
     ]
    }
   ],
   "source": [
    "sources = []\n",
    "texts = []\n",
    "categories = []\n",
    "dates = []\n",
    "labels = []\n",
    "explanations = []\n",
    "\n",
    "for i in tqdm(range(1,num_of_pages+1)):\n",
    "    response = requests.get(f'https://www.politifact.com/truth-o-meter/statements/?page={i}')\n",
    "    soup = BeautifulSoup(response.text,'html.parser')\n",
    "    \n",
    "    for source in soup.find_all(class_='statement__source'):\n",
    "        sources.append(source.get_text().strip())\n",
    "\n",
    "    for source in soup.find_all(class_='statement__text'):\n",
    "        texts.append(source.get_text().strip())\n",
    "\n",
    "    for source in soup.find_all(class_='statement__edition'):\n",
    "        try:\n",
    "            categories.append(source.find('a').get_text().split('PolitiFact')[1].strip())\n",
    "        except IndexError:\n",
    "            categories.append(source.find('a').get_text().split('—')[1].strip())\n",
    "\n",
    "    for source in soup.find_all(class_='statement__edition'):\n",
    "        dates.append(source.find(class_='article__meta').get_text().split('on ')[1].strip())\n",
    "\n",
    "    for source in soup.find_all(class_='meter'):\n",
    "        labels.append(source.find('img')['alt'])\n",
    "        explanations.append(source.get_text().strip())"
   ]
  },
  {
   "cell_type": "code",
   "execution_count": 58,
   "metadata": {},
   "outputs": [],
   "source": [
    "df = pd.DataFrame({'Source': sources, 'Text': texts, 'Category': categories, 'Date': dates,'Explanation': explanations, 'Label': labels})"
   ]
  },
  {
   "cell_type": "code",
   "execution_count": 59,
   "metadata": {},
   "outputs": [
    {
     "data": {
      "text/html": [
       "<div>\n",
       "<style scoped>\n",
       "    .dataframe tbody tr th:only-of-type {\n",
       "        vertical-align: middle;\n",
       "    }\n",
       "\n",
       "    .dataframe tbody tr th {\n",
       "        vertical-align: top;\n",
       "    }\n",
       "\n",
       "    .dataframe thead th {\n",
       "        text-align: right;\n",
       "    }\n",
       "</style>\n",
       "<table border=\"1\" class=\"dataframe\">\n",
       "  <thead>\n",
       "    <tr style=\"text-align: right;\">\n",
       "      <th></th>\n",
       "      <th>Source</th>\n",
       "      <th>Text</th>\n",
       "      <th>Category</th>\n",
       "      <th>Date</th>\n",
       "      <th>Explanation</th>\n",
       "      <th>Label</th>\n",
       "    </tr>\n",
       "  </thead>\n",
       "  <tbody>\n",
       "    <tr>\n",
       "      <th>0</th>\n",
       "      <td>Philip Van Cleave</td>\n",
       "      <td>U.S. and Virginia murders are \"usually gangban...</td>\n",
       "      <td>Virginia</td>\n",
       "      <td>Thursday, January 9th, 2020</td>\n",
       "      <td>No evidence</td>\n",
       "      <td>False</td>\n",
       "    </tr>\n",
       "    <tr>\n",
       "      <th>1</th>\n",
       "      <td>Facebook posts</td>\n",
       "      <td>Says guns are required to be registered.</td>\n",
       "      <td>Facebook fact-checks</td>\n",
       "      <td>Wednesday, January 8th, 2020</td>\n",
       "      <td>No national gun registry, few states require r...</td>\n",
       "      <td>Mostly False</td>\n",
       "    </tr>\n",
       "    <tr>\n",
       "      <th>2</th>\n",
       "      <td>Facebook posts</td>\n",
       "      <td>Says a video shows Iranian rockets being launc...</td>\n",
       "      <td>Facebook fact-checks</td>\n",
       "      <td>Wednesday, January 8th, 2020</td>\n",
       "      <td>It's at least a year old</td>\n",
       "      <td>False</td>\n",
       "    </tr>\n",
       "    <tr>\n",
       "      <th>3</th>\n",
       "      <td>Viral image</td>\n",
       "      <td>A man at \"the storming of the U.S. embassy\" in...</td>\n",
       "      <td>Facebook fact-checks</td>\n",
       "      <td>Wednesday, January 8th, 2020</td>\n",
       "      <td>He accompanied the Iraqi prime minister</td>\n",
       "      <td>True</td>\n",
       "    </tr>\n",
       "    <tr>\n",
       "      <th>4</th>\n",
       "      <td>Facebook posts</td>\n",
       "      <td>Says a series of photos show Iranian rockets b...</td>\n",
       "      <td>Facebook fact-checks</td>\n",
       "      <td>Wednesday, January 8th, 2020</td>\n",
       "      <td>Beware of false images and videos</td>\n",
       "      <td>False</td>\n",
       "    </tr>\n",
       "    <tr>\n",
       "      <th>...</th>\n",
       "      <td>...</td>\n",
       "      <td>...</td>\n",
       "      <td>...</td>\n",
       "      <td>...</td>\n",
       "      <td>...</td>\n",
       "      <td>...</td>\n",
       "    </tr>\n",
       "    <tr>\n",
       "      <th>16870</th>\n",
       "      <td>Tom Tancredo</td>\n",
       "      <td>\"For every single scientist that tells you (gl...</td>\n",
       "      <td>National</td>\n",
       "      <td>Tuesday, June 12th, 2007</td>\n",
       "      <td>Most scientists say humans cause warming</td>\n",
       "      <td>False</td>\n",
       "    </tr>\n",
       "    <tr>\n",
       "      <th>16871</th>\n",
       "      <td>John Edwards</td>\n",
       "      <td>\"We now have the greatest income inequality si...</td>\n",
       "      <td>National</td>\n",
       "      <td>Tuesday, June 12th, 2007</td>\n",
       "      <td>Economists find large income gap</td>\n",
       "      <td>True</td>\n",
       "    </tr>\n",
       "    <tr>\n",
       "      <th>16872</th>\n",
       "      <td>Bill Richardson</td>\n",
       "      <td>\"New Mexico was 46th in teacher pay (when he w...</td>\n",
       "      <td>National</td>\n",
       "      <td>Tuesday, June 12th, 2007</td>\n",
       "      <td>Correct, but stats came from friendly group</td>\n",
       "      <td>Mostly True</td>\n",
       "    </tr>\n",
       "    <tr>\n",
       "      <th>16873</th>\n",
       "      <td>Tommy Thompson</td>\n",
       "      <td>\"Tommy Thompson is the father of welfare refor...</td>\n",
       "      <td>National</td>\n",
       "      <td>Friday, June 1st, 2007</td>\n",
       "      <td>Thompson was a leader in welfare reform</td>\n",
       "      <td>True</td>\n",
       "    </tr>\n",
       "    <tr>\n",
       "      <th>16874</th>\n",
       "      <td>Tommy Thompson</td>\n",
       "      <td>\"Tommy Thompson created the first school choic...</td>\n",
       "      <td>National</td>\n",
       "      <td>Wednesday, May 2nd, 2007</td>\n",
       "      <td>He was credited as a \"tinkerer\"</td>\n",
       "      <td>True</td>\n",
       "    </tr>\n",
       "  </tbody>\n",
       "</table>\n",
       "<p>16875 rows × 6 columns</p>\n",
       "</div>"
      ],
      "text/plain": [
       "                  Source                                               Text  \\\n",
       "0      Philip Van Cleave  U.S. and Virginia murders are \"usually gangban...   \n",
       "1         Facebook posts           Says guns are required to be registered.   \n",
       "2         Facebook posts  Says a video shows Iranian rockets being launc...   \n",
       "3            Viral image  A man at \"the storming of the U.S. embassy\" in...   \n",
       "4         Facebook posts  Says a series of photos show Iranian rockets b...   \n",
       "...                  ...                                                ...   \n",
       "16870       Tom Tancredo  \"For every single scientist that tells you (gl...   \n",
       "16871       John Edwards  \"We now have the greatest income inequality si...   \n",
       "16872    Bill Richardson  \"New Mexico was 46th in teacher pay (when he w...   \n",
       "16873     Tommy Thompson  \"Tommy Thompson is the father of welfare refor...   \n",
       "16874     Tommy Thompson  \"Tommy Thompson created the first school choic...   \n",
       "\n",
       "                   Category                          Date  \\\n",
       "0                  Virginia   Thursday, January 9th, 2020   \n",
       "1      Facebook fact-checks  Wednesday, January 8th, 2020   \n",
       "2      Facebook fact-checks  Wednesday, January 8th, 2020   \n",
       "3      Facebook fact-checks  Wednesday, January 8th, 2020   \n",
       "4      Facebook fact-checks  Wednesday, January 8th, 2020   \n",
       "...                     ...                           ...   \n",
       "16870              National      Tuesday, June 12th, 2007   \n",
       "16871              National      Tuesday, June 12th, 2007   \n",
       "16872              National      Tuesday, June 12th, 2007   \n",
       "16873              National        Friday, June 1st, 2007   \n",
       "16874              National      Wednesday, May 2nd, 2007   \n",
       "\n",
       "                                             Explanation         Label  \n",
       "0                                            No evidence         False  \n",
       "1      No national gun registry, few states require r...  Mostly False  \n",
       "2                               It's at least a year old         False  \n",
       "3                He accompanied the Iraqi prime minister          True  \n",
       "4                      Beware of false images and videos         False  \n",
       "...                                                  ...           ...  \n",
       "16870           Most scientists say humans cause warming         False  \n",
       "16871                   Economists find large income gap          True  \n",
       "16872        Correct, but stats came from friendly group   Mostly True  \n",
       "16873            Thompson was a leader in welfare reform          True  \n",
       "16874                    He was credited as a \"tinkerer\"          True  \n",
       "\n",
       "[16875 rows x 6 columns]"
      ]
     },
     "execution_count": 59,
     "metadata": {},
     "output_type": "execute_result"
    }
   ],
   "source": [
    "df"
   ]
  },
  {
   "cell_type": "code",
   "execution_count": 60,
   "metadata": {},
   "outputs": [],
   "source": [
    "df.to_csv('politifact.csv')"
   ]
  },
  {
   "cell_type": "code",
   "execution_count": 73,
   "metadata": {},
   "outputs": [],
   "source": [
    "import matplotlib.pyplot as plt\n",
    "import seaborn as sns"
   ]
  },
  {
   "cell_type": "code",
   "execution_count": null,
   "metadata": {},
   "outputs": [],
   "source": [
    "df"
   ]
  },
  {
   "cell_type": "code",
   "execution_count": 87,
   "metadata": {},
   "outputs": [
    {
     "data": {
      "text/plain": [
       "<matplotlib.axes._subplots.AxesSubplot at 0x11172f240>"
      ]
     },
     "execution_count": 87,
     "metadata": {},
     "output_type": "execute_result"
    },
    {
     "data": {
      "image/png": "[encoded data removed]",
      "text/plain": [
       "<Figure size 720x288 with 1 Axes>"
      ]
     },
     "metadata": {},
     "output_type": "display_data"
    }
   ],
   "source": [
    "plt.figure(figsize=(10,4))\n",
    "sns.countplot(df[df['Source']=='Donald Trump']['Label'], order = df[df['Source']=='Donald Trump']['Label'].value_counts().index)"
   ]
  },
  {
   "cell_type": "code",
   "execution_count": 88,
   "metadata": {},
   "outputs": [
    {
     "data": {
      "text/plain": [
       "<matplotlib.axes._subplots.AxesSubplot at 0x106758f98>"
      ]
     },
     "execution_count": 88,
     "metadata": {},
     "output_type": "execute_result"
    },
    {
     "data": {
      "image/png": "[encoded data removed]",
      "text/plain": [
       "<Figure size 720x288 with 1 Axes>"
      ]
     },
     "metadata": {},
     "output_type": "display_data"
    }
   ],
   "source": [
    "plt.figure(figsize=(10,4))\n",
    "sns.countplot(df[df['Source']=='Barack Obama']['Label'], order = df[df['Source']=='Barack Obama']['Label'].value_counts().index)"
   ]
  },
  {
   "cell_type": "code",
   "execution_count": 89,
   "metadata": {},
   "outputs": [
    {
     "data": {
      "text/plain": [
       "<matplotlib.axes._subplots.AxesSubplot at 0x111c94f28>"
      ]
     },
     "execution_count": 89,
     "metadata": {},
     "output_type": "execute_result"
    },
    {
     "data": {
      "image/png": "[encoded data removed]",
      "text/plain": [
       "<Figure size 720x288 with 1 Axes>"
      ]
     },
     "metadata": {},
     "output_type": "display_data"
    }
   ],
   "source": [
    "plt.figure(figsize=(10,4))\n",
    "sns.countplot(df['Label'], order = df['Label'].value_counts().index)"
   ]
  },
  {
   "cell_type": "code",
   "execution_count": 91,
   "metadata": {},
   "outputs": [
    {
     "data": {
      "text/plain": [
       "<matplotlib.axes._subplots.AxesSubplot at 0x110d22588>"
      ]
     },
     "execution_count": 91,
     "metadata": {},
     "output_type": "execute_result"
    },
    {
     "data": {
      "image/png": "[encoded data removed]",
      "text/plain": [
       "<Figure size 720x288 with 1 Axes>"
      ]
     },
     "metadata": {},
     "output_type": "display_data"
    }
   ],
   "source": [
    "plt.figure(figsize=(10,4))\n",
    "sns.countplot(df[df['Source']=='Facebook posts']['Label'], order = df[df['Source']=='Facebook posts']['Label'].value_counts().index)"
   ]
  },
  {
   "cell_type": "code",
   "execution_count": null,
   "metadata": {},
   "outputs": [],
   "source": []
  }
 ],
 "metadata": {
  "kernelspec": {
   "display_name": "Python 3",
   "language": "python",
   "name": "python3"
  },
  "language_info": {
   "codemirror_mode": {
    "name": "ipython",
    "version": 3
   },
   "file_extension": ".py",
   "mimetype": "text/x-python",
   "name": "python",
   "nbconvert_exporter": "python",
   "pygments_lexer": "ipython3",
   "version": "3.6.5"
  }
 },
 "nbformat": 4,
 "nbformat_minor": 2
}
