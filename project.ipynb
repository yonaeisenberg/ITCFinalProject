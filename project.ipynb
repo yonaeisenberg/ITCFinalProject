{
 "cells": [
  {
   "cell_type": "markdown",
   "metadata": {},
   "source": [
    "### 1: Fake news detector - CLARITY:\n",
    "\n",
    "https://www.clarityinsights.com/blog/using-nlp-and-ai-to-detect-fake-news-with-99-accuracy\n",
    "\n",
    "#### Summary:\n",
    "1. They built a dataset built from reliable website and not reliable websites and labeled articles from both as true news and fake news.\n",
    "2. They created a histogram for each word in each article - Term frequency represents how important each word is in an article. It is a rate statistic.\n",
    "3. They used Naive Bayes classifier and got 99% accuracy on the test set.\n",
    "\n",
    "### 2: Fake news detector with r/theonion - MEDIUM:\n",
    "\n",
    "https://towardsdatascience.com/i-built-a-fake-news-detector-using-natural-language-processing-and-classification-models-da180338860e\n",
    "\n",
    "#### Summary:\n",
    "1. They built a dataset built from r/theonion and r/nottheonion - very good insight for us!\n",
    "2. They used WordVectorizer and Logistic Regression."
   ]
  }
 ],
 "metadata": {
  "kernelspec": {
   "display_name": "Python 3",
   "language": "python",
   "name": "python3"
  },
  "language_info": {
   "codemirror_mode": {
    "name": "ipython",
    "version": 3
   },
   "file_extension": ".py",
   "mimetype": "text/x-python",
   "name": "python",
   "nbconvert_exporter": "python",
   "pygments_lexer": "ipython3",
   "version": "3.6.9"
  }
 },
 "nbformat": 4,
 "nbformat_minor": 4
}
